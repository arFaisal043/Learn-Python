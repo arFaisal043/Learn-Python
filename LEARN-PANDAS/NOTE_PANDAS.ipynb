{
 "cells": [
  {
   "cell_type": "markdown",
   "id": "63aa8707",
   "metadata": {},
   "source": [
    "# Pandas Cheat Sheet Notes"
   ]
  },
  {
   "cell_type": "code",
   "execution_count": 1,
   "id": "c3d12ced",
   "metadata": {},
   "outputs": [],
   "source": [
    "import pandas as pd"
   ]
  },
  {
   "cell_type": "markdown",
   "id": "46c8d71b",
   "metadata": {},
   "source": [
    "### Reading data"
   ]
  },
  {
   "cell_type": "markdown",
   "id": "c84af84a",
   "metadata": {},
   "source": [
    "df = pd.read_csv('filename.csv')           # Read from CSV\n",
    "df = pd.read_table('filename.txt')         # Read from delimited text\n",
    "df = pd.read_excel('filename.xlsx')        # Read from Excel\n",
    "df = pd.read_sql(query, connection)        # Read from SQL\n",
    "df = pd.read_json('filename.json')         # Read from JSON\n",
    "dfs = pd.read_html(url)                    # Parse HTML tables"
   ]
  },
  {
   "cell_type": "markdown",
   "id": "73542a88",
   "metadata": {},
   "source": [
    "### Creating DataFrame"
   ]
  },
  {
   "cell_type": "markdown",
   "id": "d0a5224a",
   "metadata": {},
   "source": [
    "df = pd.DataFrame(dictionary)              # From dictionary"
   ]
  },
  {
   "cell_type": "markdown",
   "id": "c3f5b30c",
   "metadata": {},
   "source": [
    "### Writing data"
   ]
  },
  {
   "cell_type": "markdown",
   "id": "a6aa7dfb",
   "metadata": {},
   "source": [
    "df.to_csv('filename.csv')                  # Write to CSV\n",
    "df.to_excel('filename.xlsx')               # Write to Excel\n",
    "df.to_sql('table_name', connection)        # Write to SQL\n",
    "df.to_json('filename.json')                # Write to JSON"
   ]
  },
  {
   "cell_type": "markdown",
   "id": "6e83fd81",
   "metadata": {},
   "source": [
    "### Inspect Data"
   ]
  },
  {
   "cell_type": "markdown",
   "id": "f6325d68",
   "metadata": {},
   "source": [
    "df.head()                   # First 5 rows\n",
    "df.tail()                   # Last 5 rows\n",
    "df.sample()                 # Random 5 rows\n",
    "df.shape                    # DataFrame dimensions (rows, columns)\n",
    "df.info()                   # DataFrame summary\n",
    "df.describe()               # Numerical columns statistics\n",
    "df.dtypes                   # Column data types\n",
    "df.columns                  # Column names\n",
    "df.index                    # Index range"
   ]
  },
  {
   "cell_type": "markdown",
   "id": "67d1ae2c",
   "metadata": {},
   "source": [
    "### Select/Index Data"
   ]
  },
  {
   "cell_type": "markdown",
   "id": "a1642248",
   "metadata": {},
   "source": [
    "df['column']                        # Select single column\n",
    "df[['col1', 'col2']]                # Select multiple columns\n",
    "df.iloc[0]                          # First row by position\n",
    "df.loc[0]                           # First row by index label\n",
    "df.iloc[0, 0]                       # Specific element by position\n",
    "df.loc[0, 'column']                 # Specific element by label\n",
    "df[df['col'] > 5]                   # Filter rows where column > 5\n",
    "df.iloc[0:5, 0:2]                   # Slice rows and columns\n",
    "df.set_index('column')              # Set column as index"
   ]
  },
  {
   "cell_type": "markdown",
   "id": "dfe5c592",
   "metadata": {},
   "source": [
    "### Clean Data"
   ]
  },
  {
   "cell_type": "markdown",
   "id": "ded0d5f5",
   "metadata": {},
   "source": [
    "df.isnull()                         # Check for null values\n",
    "df.notnull()                        # Check for non-null values\n",
    "df.dropna()                         # Drop rows with null values\n",
    "df.fillna(value)                    # Replace nulls with value\n",
    "df.replace(1, 'one')                # Replace specific values\n",
    "df.rename(columns={'old': 'new'})   # Rename columns\n",
    "df.astype('int')                    # Change column data type\n",
    "df.drop_duplicates()                # Remove duplicate rows\n",
    "df.reset_index()                    # Reset index"
   ]
  },
  {
   "cell_type": "markdown",
   "id": "7c94bfbb",
   "metadata": {},
   "source": [
    "### Sort/Filter Data"
   ]
  },
  {
   "cell_type": "markdown",
   "id": "b8159c29",
   "metadata": {},
   "source": [
    "df.sort_values('col')                               # Sort ascending\n",
    "df.sort_values('col', ascending=False)              # Sort descending\n",
    "df.sort_values(['col1','col2'], ascending=[True, False])  # Multi-column sort\n",
    "df[df['col'] > 5]                                   # Filter by condition\n",
    "df.query('col > 5')                                 # Filter with query\n",
    "df.sample(5)                                        # Random 5 rows\n",
    "df.nlargest(3, 'col')                               # Top 3 rows by column\n",
    "df.nsmallest(3, 'col')                              # Bottom 3 rows by column\n",
    "df.filter(like='part')                              # Filter columns by substring"
   ]
  },
  {
   "cell_type": "markdown",
   "id": "63be1d2d",
   "metadata": {},
   "source": [
    "### Group Data"
   ]
  },
  {
   "cell_type": "markdown",
   "id": "d796f15c",
   "metadata": {},
   "source": [
    "df.groupby('col')                           # Group by column\n",
    "df.groupby('col').mean()                    # Mean of groups\n",
    "df.groupby('col').sum()                     # Sum of groups\n",
    "df.groupby('col').count()                   # Count non-null values\n",
    "df.groupby('col')['other_col'].max()        # Max value in another column\n",
    "df.pivot_table(values='col', index='group', aggfunc='mean')  # Pivot table\n",
    "df.agg({'col1': 'mean', 'col2': 'sum'})     # Aggregate multiple columns\n",
    "df.apply(np.mean)                           # Apply function to columns\n",
    "df.transform(lambda x: x + 10)              # Transform data column-wise"
   ]
  },
  {
   "cell_type": "markdown",
   "id": "23e97fea",
   "metadata": {},
   "source": [
    "### Merge/Join Data"
   ]
  },
  {
   "cell_type": "markdown",
   "id": "d55d3268",
   "metadata": {},
   "source": [
    "pd.concat([df1, df2])                       # Concatenate vertically\n",
    "pd.concat([df1, df2], axis=1)               # Concatenate horizontally\n",
    "df1.merge(df2, on='key')                    # Merge on key\n",
    "df1.join(df2)                               # SQL-style join\n",
    "df1.append(df2)                             # Append rows\n",
    "pd.merge(df1, df2, how='outer', on='key')   # Outer join\n",
    "pd.merge(df1, df2, how='inner', on='key')   # Inner join\n",
    "pd.merge(df1, df2, how='left', on='key')    # Left join\n",
    "pd.merge(df1, df2, how='right', on='key')   # Right join"
   ]
  },
  {
   "cell_type": "markdown",
   "id": "edb35387",
   "metadata": {},
   "source": [
    "### Statistical Operations"
   ]
  },
  {
   "cell_type": "markdown",
   "id": "c92fe189",
   "metadata": {},
   "source": [
    "df.mean()           # Column-wise mean\n",
    "df.median()         # Column-wise median\n",
    "df.std()            # Column-wise standard deviation\n",
    "df.var()            # Column-wise variance\n",
    "df.sum()            # Column-wise sum\n",
    "df.min()            # Column-wise minimum\n",
    "df.max()            # Column-wise maximum\n",
    "df.count()          # Count non-null values per column\n",
    "df.corr()           # Correlation matrix"
   ]
  },
  {
   "cell_type": "markdown",
   "id": "4aa4590c",
   "metadata": {},
   "source": [
    "### Data Visualization"
   ]
  },
  {
   "cell_type": "markdown",
   "id": "e0aac055",
   "metadata": {},
   "source": [
    "df.plot(kind='line')                # Line plot\n",
    "df.plot(kind='bar')                 # Vertical bar plot\n",
    "df.plot(kind='barh')                # Horizontal bar plot\n",
    "df.plot(kind='hist')                # Histogram\n",
    "df.plot(kind='box')                 # Box plot\n",
    "df.plot(kind='kde')                 # Kernel density estimation\n",
    "df.plot(kind='pie', y='col')        # Pie chart\n",
    "df.plot.scatter(x='c1', y='c2')     # Scatter plot\n",
    "df.plot(kind='area')                # Area plot"
   ]
  }
 ],
 "metadata": {
  "kernelspec": {
   "display_name": "base",
   "language": "python",
   "name": "python3"
  },
  "language_info": {
   "codemirror_mode": {
    "name": "ipython",
    "version": 3
   },
   "file_extension": ".py",
   "mimetype": "text/x-python",
   "name": "python",
   "nbconvert_exporter": "python",
   "pygments_lexer": "ipython3",
   "version": "3.13.5"
  }
 },
 "nbformat": 4,
 "nbformat_minor": 5
}
