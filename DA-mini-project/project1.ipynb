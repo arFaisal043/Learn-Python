{
 "cells": [
  {
   "cell_type": "markdown",
   "id": "3889c078",
   "metadata": {},
   "source": [
    "# Students Report Card Generator"
   ]
  },
  {
   "cell_type": "code",
   "execution_count": 30,
   "id": "216e8a8d",
   "metadata": {},
   "outputs": [
    {
     "name": "stdout",
     "output_type": "stream",
     "text": [
      "Alice  :  253\n",
      "Bob  :  275\n",
      "Charlie  :  245\n",
      "David  :  266\n",
      "Emma  :  273\n",
      "Fahim  :  237\n",
      "Grace  :  271\n",
      "Henry  :  246\n",
      "Ivy  :  269\n",
      "Jack  :  261\n",
      "Katherine  :  255\n",
      "Liam  :  260\n",
      "Mia  :  276\n",
      "Noah  :  249\n",
      "Olivia  :  286\n",
      "Peter  :  229\n",
      "Quinn  :  261\n",
      "Rachel  :  280\n",
      "Samuel  :  251\n",
      "Tina  :  266\n",
      "Uma  :  271\n",
      "Victor  :  237\n",
      "Wendy  :  269\n",
      "Xavier  :  247\n",
      "Yara  :  267\n",
      "Zayn  :  261\n",
      "Aisha  :  287\n",
      "Ben  :  240\n",
      "Chloe  :  260\n",
      "Daniel  :  263\n",
      "Eva  :  258\n",
      "Frank  :  236\n",
      "Gina  :  269\n",
      "Hasan  :  268\n",
      "Isla  :  282\n",
      "Jacob  :  252\n",
      "Katie  :  259\n",
      "Leo  :  261\n",
      "Maya  :  272\n",
      "Nabil  :  252\n",
      "Omar  :  264\n",
      "Priya  :  284\n",
      "Qasim  :  248\n",
      "Riya  :  265\n",
      "Sara  :  279\n",
      "Tom  :  255\n",
      "Umaiza  :  267\n",
      "Vikram  :  267\n",
      "Zara  :  285\n"
     ]
    }
   ],
   "source": [
    "students = [\n",
    "    {\"name\": \"Alice\", \"math\": 85, \"eng\": 90, \"science\": 78},\n",
    "    {\"name\": \"Bob\", \"math\": 92, \"eng\": 88, \"science\": 95},\n",
    "    {\"name\": \"Charlie\", \"math\": 78, \"eng\": 85, \"science\": 82},\n",
    "    {\"name\": \"David\", \"math\": 88, \"eng\": 92, \"science\": 86},\n",
    "    {\"name\": \"Emma\", \"math\": 95, \"eng\": 87, \"science\": 91},\n",
    "    {\"name\": \"Fahim\", \"math\": 76, \"eng\": 82, \"science\": 79},\n",
    "    {\"name\": \"Grace\", \"math\": 89, \"eng\": 94, \"science\": 88},\n",
    "    {\"name\": \"Henry\", \"math\": 83, \"eng\": 79, \"science\": 84},\n",
    "    {\"name\": \"Ivy\", \"math\": 91, \"eng\": 85, \"science\": 93},\n",
    "    {\"name\": \"Jack\", \"math\": 84, \"eng\": 90, \"science\": 87},\n",
    "    {\"name\": \"Katherine\", \"math\": 79, \"eng\": 91, \"science\": 85},\n",
    "    {\"name\": \"Liam\", \"math\": 87, \"eng\": 83, \"science\": 90},\n",
    "    {\"name\": \"Mia\", \"math\": 93, \"eng\": 89, \"science\": 94},\n",
    "    {\"name\": \"Noah\", \"math\": 82, \"eng\": 86, \"science\": 81},\n",
    "    {\"name\": \"Olivia\", \"math\": 99, \"eng\": 95, \"science\": 92},\n",
    "    {\"name\": \"Peter\", \"math\": 75, \"eng\": 78, \"science\": 76},\n",
    "    {\"name\": \"Quinn\", \"math\": 88, \"eng\": 84, \"science\": 89},\n",
    "    {\"name\": \"Rachel\", \"math\": 94, \"eng\": 90, \"science\": 96},\n",
    "    {\"name\": \"Samuel\", \"math\": 81, \"eng\": 87, \"science\": 83},\n",
    "    {\"name\": \"Tina\", \"math\": 86, \"eng\": 92, \"science\": 88},\n",
    "    {\"name\": \"Uma\", \"math\": 92, \"eng\": 88, \"science\": 91},\n",
    "    {\"name\": \"Victor\", \"math\": 77, \"eng\": 81, \"science\": 79},\n",
    "    {\"name\": \"Wendy\", \"math\": 89, \"eng\": 93, \"science\": 87},\n",
    "    {\"name\": \"Xavier\", \"math\": 83, \"eng\": 79, \"science\": 85},\n",
    "    {\"name\": \"Yara\", \"math\": 91, \"eng\": 86, \"science\": 90},\n",
    "    {\"name\": \"Zayn\", \"math\": 84, \"eng\": 91, \"science\": 86},\n",
    "    {\"name\": \"Aisha\", \"math\": 96, \"eng\": 94, \"science\": 97},\n",
    "    {\"name\": \"Ben\", \"math\": 78, \"eng\": 82, \"science\": 80},\n",
    "    {\"name\": \"Chloe\", \"math\": 87, \"eng\": 89, \"science\": 84},\n",
    "    {\"name\": \"Daniel\", \"math\": 90, \"eng\": 85, \"science\": 88},\n",
    "    {\"name\": \"Eva\", \"math\": 85, \"eng\": 90, \"science\": 83},\n",
    "    {\"name\": \"Frank\", \"math\": 79, \"eng\": 76, \"science\": 81},\n",
    "    {\"name\": \"Gina\", \"math\": 92, \"eng\": 87, \"science\": 90},\n",
    "    {\"name\": \"Hasan\", \"math\": 88, \"eng\": 91, \"science\": 89},\n",
    "    {\"name\": \"Isla\", \"math\": 93, \"eng\": 95, \"science\": 94},\n",
    "    {\"name\": \"Jacob\", \"math\": 82, \"eng\": 84, \"science\": 86},\n",
    "    {\"name\": \"Katie\", \"math\": 86, \"eng\": 88, \"science\": 85},\n",
    "    {\"name\": \"Leo\", \"math\": 91, \"eng\": 83, \"science\": 87},\n",
    "    {\"name\": \"Maya\", \"math\": 89, \"eng\": 92, \"science\": 91},\n",
    "    {\"name\": \"Nabil\", \"math\": 84, \"eng\": 86, \"science\": 82},\n",
    "    {\"name\": \"Omar\", \"math\": 87, \"eng\": 89, \"science\": 88},\n",
    "    {\"name\": \"Priya\", \"math\": 95, \"eng\": 93, \"science\": 96},\n",
    "    {\"name\": \"Qasim\", \"math\": 80, \"eng\": 85, \"science\": 83},\n",
    "    {\"name\": \"Riya\", \"math\": 88, \"eng\": 90, \"science\": 87},\n",
    "    {\"name\": \"Sara\", \"math\": 92, \"eng\": 94, \"science\": 93},\n",
    "    {\"name\": \"Tom\", \"math\": 83, \"eng\": 87, \"science\": 85},\n",
    "    {\"name\": \"Umaiza\", \"math\": 90, \"eng\": 88, \"science\": 89},\n",
    "    {\"name\": \"Vikram\", \"math\": 86, \"eng\": 91, \"science\": 90},\n",
    "    {\"name\": \"Zara\", \"math\": 94, \"eng\": 96, \"science\": 95}\n",
    "]\n",
    "\n",
    "for i in students:\n",
    "    i[\"total\"] = i[\"math\"] + i[\"eng\"] + i[\"science\"]\n",
    "    print(i[\"name\"], \" : \", i[\"total\"])        \n"
   ]
  },
  {
   "cell_type": "code",
   "execution_count": null,
   "id": "c89dc054",
   "metadata": {},
   "outputs": [
    {
     "name": "stdout",
     "output_type": "stream",
     "text": [
      "Topper is: Aisha with 287 marks.\n"
     ]
    }
   ],
   "source": [
    "# find highest mark\n",
    "import math\n",
    "max_num = -math.inf   # - inf\n",
    "topper = \"\"\n",
    "\n",
    "for i in students:\n",
    "    if(i[\"total\"] > max_num):\n",
    "        max_num = i[\"total\"] \n",
    "        topper = i[\"name\"]\n",
    "\n",
    "print(f\"Topper is: {topper} with {max_num} marks.\")"
   ]
  },
  {
   "cell_type": "code",
   "execution_count": 32,
   "id": "a867a492",
   "metadata": {},
   "outputs": [
    {
     "name": "stdout",
     "output_type": "stream",
     "text": [
      "------------- Report Card -------------\n",
      "Name : Alice → Math : 85, English : 90, Science : 78, Total : 253\n",
      "Name : Bob → Math : 92, English : 88, Science : 95, Total : 275\n",
      "Name : Charlie → Math : 78, English : 85, Science : 82, Total : 245\n",
      "Name : David → Math : 88, English : 92, Science : 86, Total : 266\n",
      "Name : Emma → Math : 95, English : 87, Science : 91, Total : 273\n",
      "Name : Fahim → Math : 76, English : 82, Science : 79, Total : 237\n",
      "Name : Grace → Math : 89, English : 94, Science : 88, Total : 271\n",
      "Name : Henry → Math : 83, English : 79, Science : 84, Total : 246\n",
      "Name : Ivy → Math : 91, English : 85, Science : 93, Total : 269\n",
      "Name : Jack → Math : 84, English : 90, Science : 87, Total : 261\n",
      "Name : Katherine → Math : 79, English : 91, Science : 85, Total : 255\n",
      "Name : Liam → Math : 87, English : 83, Science : 90, Total : 260\n",
      "Name : Mia → Math : 93, English : 89, Science : 94, Total : 276\n",
      "Name : Noah → Math : 82, English : 86, Science : 81, Total : 249\n",
      "Name : Olivia → Math : 99, English : 95, Science : 92, Total : 286\n",
      "Name : Peter → Math : 75, English : 78, Science : 76, Total : 229\n",
      "Name : Quinn → Math : 88, English : 84, Science : 89, Total : 261\n",
      "Name : Rachel → Math : 94, English : 90, Science : 96, Total : 280\n",
      "Name : Samuel → Math : 81, English : 87, Science : 83, Total : 251\n",
      "Name : Tina → Math : 86, English : 92, Science : 88, Total : 266\n",
      "Name : Uma → Math : 92, English : 88, Science : 91, Total : 271\n",
      "Name : Victor → Math : 77, English : 81, Science : 79, Total : 237\n",
      "Name : Wendy → Math : 89, English : 93, Science : 87, Total : 269\n",
      "Name : Xavier → Math : 83, English : 79, Science : 85, Total : 247\n",
      "Name : Yara → Math : 91, English : 86, Science : 90, Total : 267\n",
      "Name : Zayn → Math : 84, English : 91, Science : 86, Total : 261\n",
      "Name : Aisha → Math : 96, English : 94, Science : 97, Total : 287\n",
      "Name : Ben → Math : 78, English : 82, Science : 80, Total : 240\n",
      "Name : Chloe → Math : 87, English : 89, Science : 84, Total : 260\n",
      "Name : Daniel → Math : 90, English : 85, Science : 88, Total : 263\n",
      "Name : Eva → Math : 85, English : 90, Science : 83, Total : 258\n",
      "Name : Frank → Math : 79, English : 76, Science : 81, Total : 236\n",
      "Name : Gina → Math : 92, English : 87, Science : 90, Total : 269\n",
      "Name : Hasan → Math : 88, English : 91, Science : 89, Total : 268\n",
      "Name : Isla → Math : 93, English : 95, Science : 94, Total : 282\n",
      "Name : Jacob → Math : 82, English : 84, Science : 86, Total : 252\n",
      "Name : Katie → Math : 86, English : 88, Science : 85, Total : 259\n",
      "Name : Leo → Math : 91, English : 83, Science : 87, Total : 261\n",
      "Name : Maya → Math : 89, English : 92, Science : 91, Total : 272\n",
      "Name : Nabil → Math : 84, English : 86, Science : 82, Total : 252\n",
      "Name : Omar → Math : 87, English : 89, Science : 88, Total : 264\n",
      "Name : Priya → Math : 95, English : 93, Science : 96, Total : 284\n",
      "Name : Qasim → Math : 80, English : 85, Science : 83, Total : 248\n",
      "Name : Riya → Math : 88, English : 90, Science : 87, Total : 265\n",
      "Name : Sara → Math : 92, English : 94, Science : 93, Total : 279\n",
      "Name : Tom → Math : 83, English : 87, Science : 85, Total : 255\n",
      "Name : Umaiza → Math : 90, English : 88, Science : 89, Total : 267\n",
      "Name : Vikram → Math : 86, English : 91, Science : 90, Total : 267\n",
      "Name : Zara → Math : 94, English : 96, Science : 95, Total : 285\n"
     ]
    }
   ],
   "source": [
    "# print report cards for all students\n",
    "print(\"------------- Report Card -------------\")\n",
    "\n",
    "for i in students:\n",
    "    print(f\"Name : {i[\"name\"]} → Math : {i[\"math\"]}, English : {i[\"eng\"]}, Science : {i[\"science\"]}, Total : {i[\"total\"]}\")"
   ]
  },
  {
   "cell_type": "code",
   "execution_count": null,
   "id": "f77d8615",
   "metadata": {},
   "outputs": [
    {
     "name": "stdout",
     "output_type": "stream",
     "text": [
      "Topper is: Aisha with 287 marks.\n"
     ]
    }
   ],
   "source": [
    "# Print topper name and marks\n",
    "print(f\"Topper is: {topper} with {max_num} marks.\")"
   ]
  }
 ],
 "metadata": {
  "kernelspec": {
   "display_name": "base",
   "language": "python",
   "name": "python3"
  },
  "language_info": {
   "codemirror_mode": {
    "name": "ipython",
    "version": 3
   },
   "file_extension": ".py",
   "mimetype": "text/x-python",
   "name": "python",
   "nbconvert_exporter": "python",
   "pygments_lexer": "ipython3",
   "version": "3.13.5"
  }
 },
 "nbformat": 4,
 "nbformat_minor": 5
}
