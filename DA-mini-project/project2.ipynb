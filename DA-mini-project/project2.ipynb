{
 "cells": [
  {
   "cell_type": "code",
   "execution_count": 3,
   "id": "2f82d951",
   "metadata": {},
   "outputs": [
    {
     "name": "stdout",
     "output_type": "stream",
     "text": [
      "[{'category': 'Food', 'amount': 2000}, {'category': 'Transport', 'amount': 1000}, {'category': 'Shopping', 'amount': 3000}, {'category': 'Food', 'amount': 3000}, {'category': 'Tuition fee', 'amount': 15000}, {'category': 'Shopping', 'amount': 2000}, {'category': 'Rent', 'amount': 20000}, {'category': 'Course', 'amount': 1500}]\n"
     ]
    }
   ],
   "source": [
    "expenses = [\n",
    "    {\"category\" : \"Food\", \"amount\" : 2000},\n",
    "    {\"category\" : \"Transport\", \"amount\" : 1000},\n",
    "    {\"category\" : \"Shopping\", \"amount\" : 3000},\n",
    "    {\"category\" : \"Food\", \"amount\" : 3000},\n",
    "    {\"category\" : \"Tuition fee\", \"amount\" : 15000},\n",
    "    {\"category\" : \"Shopping\", \"amount\" : 2000},\n",
    "    {\"category\" : \"Rent\", \"amount\" : 20000},\n",
    "    {\"category\" : \"Course\", \"amount\" : 1500}\n",
    "]\n",
    "print(expenses)"
   ]
  },
  {
   "cell_type": "code",
   "execution_count": 4,
   "id": "028d925f",
   "metadata": {},
   "outputs": [
    {
     "name": "stdout",
     "output_type": "stream",
     "text": [
      "Total income is: 50000\n"
     ]
    }
   ],
   "source": [
    "# total income\n",
    "income = 50000\n",
    "print(f\"Total income is: {income}\")"
   ]
  },
  {
   "cell_type": "code",
   "execution_count": 5,
   "id": "310e2523",
   "metadata": {},
   "outputs": [
    {
     "name": "stdout",
     "output_type": "stream",
     "text": [
      "Total Expense is: 47500\n"
     ]
    }
   ],
   "source": [
    "# Total expense\n",
    "total_expense = 0\n",
    "\n",
    "for i in expenses:\n",
    "    total_expense += i[\"amount\"]\n",
    "print(f\"Total Expense is: {total_expense}\")"
   ]
  },
  {
   "cell_type": "code",
   "execution_count": 6,
   "id": "ad89a17a",
   "metadata": {},
   "outputs": [
    {
     "name": "stdout",
     "output_type": "stream",
     "text": [
      "Total cost in each category →  {'Food': 5000, 'Transport': 1000, 'Shopping': 5000, 'Tuition fee': 15000, 'Rent': 20000, 'Course': 1500}\n"
     ]
    }
   ],
   "source": [
    "# Total cost in each category\n",
    "\n",
    "category_wise = {}\n",
    "for i in expenses:\n",
    "    category = i[\"category\"]\n",
    "    amount = i[\"amount\"]\n",
    "\n",
    "    if category in category_wise:\n",
    "        category_wise[category] += amount\n",
    "    else :\n",
    "        category_wise[category] = amount    \n",
    "print(f\"Total cost in each category →  {category_wise}\")"
   ]
  },
  {
   "cell_type": "code",
   "execution_count": 7,
   "id": "a4310507",
   "metadata": {},
   "outputs": [
    {
     "name": "stdout",
     "output_type": "stream",
     "text": [
      "Total savings is 2500\n"
     ]
    }
   ],
   "source": [
    "# Compare with income and if have any saving?\n",
    "\n",
    "savings = income - total_expense\n",
    "if(savings > 0):\n",
    "    print(f\"Total savings is {savings}\")\n",
    "elif(savings == 0):\n",
    "    print(\"No savings\")\n",
    "else:    \n",
    "    print(\"Loss\")"
   ]
  },
  {
   "cell_type": "code",
   "execution_count": 8,
   "id": "86c79e81",
   "metadata": {},
   "outputs": [
    {
     "name": "stdout",
     "output_type": "stream",
     "text": [
      "Max Category and Amount is: 'Rent : 20000'\n"
     ]
    }
   ],
   "source": [
    "# Highest expense category in dictionary    \n",
    "\n",
    "import math\n",
    "max_category = None  \n",
    "max_amount = -math.inf # -infinity\n",
    "\n",
    "for category,amount in category_wise.items():\n",
    "    if(amount > max_amount):\n",
    "        max_amount = amount\n",
    "        max_category = category\n",
    "\n",
    "print(f\"Max Category and Amount is: '{max_category} : {max_amount}'\")"
   ]
  },
  {
   "cell_type": "markdown",
   "id": "8d9903b5",
   "metadata": {},
   "source": [
    "### Alternative way to fins max"
   ]
  },
  {
   "cell_type": "code",
   "execution_count": 9,
   "id": "6fef7806",
   "metadata": {},
   "outputs": [
    {
     "name": "stdout",
     "output_type": "stream",
     "text": [
      "Rent\n"
     ]
    }
   ],
   "source": [
    "print(max(category_wise , key = category_wise.get))"
   ]
  },
  {
   "cell_type": "code",
   "execution_count": null,
   "id": "34e5d8b1",
   "metadata": {},
   "outputs": [],
   "source": []
  }
 ],
 "metadata": {
  "kernelspec": {
   "display_name": "base",
   "language": "python",
   "name": "python3"
  },
  "language_info": {
   "codemirror_mode": {
    "name": "ipython",
    "version": 3
   },
   "file_extension": ".py",
   "mimetype": "text/x-python",
   "name": "python",
   "nbconvert_exporter": "python",
   "pygments_lexer": "ipython3",
   "version": "3.13.5"
  }
 },
 "nbformat": 4,
 "nbformat_minor": 5
}
