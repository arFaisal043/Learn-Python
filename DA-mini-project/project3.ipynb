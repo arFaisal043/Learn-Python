{
 "cells": [
  {
   "cell_type": "code",
   "execution_count": 2,
   "id": "c8a2aa97",
   "metadata": {},
   "outputs": [],
   "source": [
    "sales = [\n",
    "    {\"day\": \"Monday\", \"product\": \"Shirt\", \"amount\": 1200},\n",
    "    {\"day\": \"Monday\", \"product\": \"Pant\", \"amount\": 800},\n",
    "    {\"day\": \"Tuesday\", \"product\": \"Shirt\", \"amount\": 1500},\n",
    "    {\"day\": \"Tuesday\", \"product\": \"Shoe\", \"amount\": 2000},\n",
    "    {\"day\": \"Wednesday\", \"product\": \"Pant\", \"amount\": 1000},\n",
    "    {\"day\": \"Wednesday\", \"product\": \"Shoe\", \"amount\": 2500},\n",
    "    {\"day\": \"Thursday\", \"product\": \"Shirt\", \"amount\": 1700},\n",
    "    {\"day\": \"Thursday\", \"product\": \"Pant\", \"amount\": 900},\n",
    "    {\"day\": \"Friday\", \"product\": \"Shoe\", \"amount\": 2200},\n",
    "    {\"day\": \"Friday\", \"product\": \"Jacket\", \"amount\": 2800},\n",
    "    {\"day\": \"Saturday\", \"product\": \"Hat\", \"amount\": 600},\n",
    "    {\"day\": \"Saturday\", \"product\": \"Socks\", \"amount\": 500},\n",
    "    {\"day\": \"Sunday\", \"product\": \"Belt\", \"amount\": 750},\n",
    "    {\"day\": \"Monday\", \"product\": \"Tie\", \"amount\": 650},\n",
    "    {\"day\": \"Tuesday\", \"product\": \"Jacket\", \"amount\": 2600},\n",
    "    {\"day\": \"Wednesday\", \"product\": \"Hat\", \"amount\": 550},\n",
    "    {\"day\": \"Thursday\", \"product\": \"Socks\", \"amount\": 480},\n",
    "    {\"day\": \"Friday\", \"product\": \"Belt\", \"amount\": 720},\n",
    "    {\"day\": \"Saturday\", \"product\": \"Tie\", \"amount\": 680},\n",
    "    {\"day\": \"Sunday\", \"product\": \"Shirt\", \"amount\": 1900},\n",
    "    {\"day\": \"Monday\", \"product\": \"Shoe\", \"amount\": 2100},\n",
    "    {\"day\": \"Tuesday\", \"product\": \"Pant\", \"amount\": 950},\n",
    "    {\"day\": \"Wednesday\", \"product\": \"Jacket\", \"amount\": 2700},\n",
    "    {\"day\": \"Thursday\", \"product\": \"Hat\", \"amount\": 620},\n",
    "    {\"day\": \"Friday\", \"product\": \"Socks\", \"amount\": 520},\n",
    "    {\"day\": \"Saturday\", \"product\": \"Belt\", \"amount\": 780},\n",
    "    {\"day\": \"Sunday\", \"product\": \"Tie\", \"amount\": 700},\n",
    "    {\"day\": \"Monday\", \"product\": \"Shirt\", \"amount\": 1300},\n",
    "    {\"day\": \"Tuesday\", \"product\": \"Shoe\", \"amount\": 2300},\n",
    "    {\"day\": \"Wednesday\", \"product\": \"Pant\", \"amount\": 1100},\n",
    "    {\"day\": \"Thursday\", \"product\": \"Jacket\", \"amount\": 2900},\n",
    "    {\"day\": \"Friday\", \"product\": \"Hat\", \"amount\": 580},\n",
    "    {\"day\": \"Saturday\", \"product\": \"Socks\", \"amount\": 540},\n",
    "    {\"day\": \"Sunday\", \"product\": \"Belt\", \"amount\": 760},\n",
    "    {\"day\": \"Monday\", \"product\": \"Tie\", \"amount\": 670},\n",
    "    {\"day\": \"Tuesday\", \"product\": \"Shirt\", \"amount\": 1600},\n",
    "    {\"day\": \"Wednesday\", \"product\": \"Shoe\", \"amount\": 2400},\n",
    "    {\"day\": \"Thursday\", \"product\": \"Pant\", \"amount\": 850},\n",
    "    {\"day\": \"Friday\", \"product\": \"Jacket\", \"amount\": 3000},\n",
    "    {\"day\": \"Saturday\", \"product\": \"Hat\", \"amount\": 640},\n",
    "    {\"day\": \"Sunday\", \"product\": \"Socks\", \"amount\": 560},\n",
    "    {\"day\": \"Monday\", \"product\": \"Belt\", \"amount\": 740},\n",
    "    {\"day\": \"Tuesday\", \"product\": \"Tie\", \"amount\": 690},\n",
    "    {\"day\": \"Wednesday\", \"product\": \"Shirt\", \"amount\": 1800},\n",
    "    {\"day\": \"Thursday\", \"product\": \"Shoe\", \"amount\": 2100},\n",
    "    {\"day\": \"Friday\", \"product\": \"Pant\", \"amount\": 1200},\n",
    "    {\"day\": \"Saturday\", \"product\": \"Jacket\", \"amount\": 2750},\n",
    "    {\"day\": \"Sunday\", \"product\": \"Hat\", \"amount\": 610},\n",
    "    {\"day\": \"Monday\", \"product\": \"Socks\", \"amount\": 530},\n",
    "    {\"day\": \"Tuesday\", \"product\": \"Belt\", \"amount\": 770},\n",
    "    {\"day\": \"Wednesday\", \"product\": \"Tie\", \"amount\": 710},\n",
    "    {\"day\": \"Thursday\", \"product\": \"Shirt\", \"amount\": 1400},\n",
    "    {\"day\": \"Friday\", \"product\": \"Shoe\", \"amount\": 2250},\n",
    "    {\"day\": \"Saturday\", \"product\": \"Pant\", \"amount\": 1050},\n",
    "    {\"day\": \"Sunday\", \"product\": \"Jacket\", \"amount\": 2850}\n",
    "]"
   ]
  },
  {
   "cell_type": "markdown",
   "id": "04891dbc",
   "metadata": {},
   "source": [
    "### Total Sales"
   ]
  },
  {
   "cell_type": "code",
   "execution_count": 4,
   "id": "4527bb14",
   "metadata": {},
   "outputs": [
    {
     "name": "stdout",
     "output_type": "stream",
     "text": [
      "Total sales is 73050 taka.\n"
     ]
    }
   ],
   "source": [
    "total_sales = 0\n",
    "for i in sales:\n",
    "    total_sales += i[\"amount\"]\n",
    "print(f\"Total sales is {total_sales} taka.\")"
   ]
  },
  {
   "cell_type": "markdown",
   "id": "069354f2",
   "metadata": {},
   "source": [
    "### Total Sells of Each Category"
   ]
  },
  {
   "cell_type": "code",
   "execution_count": 24,
   "id": "5a068626",
   "metadata": {},
   "outputs": [
    {
     "name": "stdout",
     "output_type": "stream",
     "text": [
      "Total Sells of Each Category: {'Shirt': 12400, 'Pant': 7850, 'Shoe': 17850, 'Jacket': 19600, 'Hat': 3600, 'Socks': 3130, 'Belt': 4520, 'Tie': 4100}\n"
     ]
    }
   ],
   "source": [
    "most_selling_product_dict = {}\n",
    "\n",
    "for i in sales:\n",
    "    product = i[\"product\"]\n",
    "    amount = i[\"amount\"]\n",
    "\n",
    "    if product in most_selling_product_dict:\n",
    "        most_selling_product_dict[product] += amount\n",
    "    else:\n",
    "        most_selling_product_dict[product] = amount\n",
    "print(f\"Total Sells of Each Category: {most_selling_product_dict}\")"
   ]
  },
  {
   "cell_type": "markdown",
   "id": "f0661d71",
   "metadata": {},
   "source": [
    "### Most selling products"
   ]
  },
  {
   "cell_type": "code",
   "execution_count": 27,
   "id": "858b6b45",
   "metadata": {},
   "outputs": [
    {
     "name": "stdout",
     "output_type": "stream",
     "text": [
      "Most selling product is: Jacket with amount 19600\n"
     ]
    }
   ],
   "source": [
    "most_selling_product = max(most_selling_product_dict, key = most_selling_product_dict.get)\n",
    "most_selling_amount = most_selling_product_dict[most_selling_product]\n",
    "print(f\"Most selling product is: {most_selling_product} with amount {most_selling_amount}\")"
   ]
  },
  {
   "cell_type": "markdown",
   "id": "36939269",
   "metadata": {},
   "source": [
    "### Average Sales"
   ]
  },
  {
   "cell_type": "code",
   "execution_count": 16,
   "id": "be51ab9b",
   "metadata": {},
   "outputs": [
    {
     "name": "stdout",
     "output_type": "stream",
     "text": [
      "Average sell is: 1328.1818181818182\n"
     ]
    }
   ],
   "source": [
    "avg_sales = total_sales / len(sales)\n",
    "print(f\"Average sell is: {avg_sales}\")"
   ]
  },
  {
   "cell_type": "markdown",
   "id": "95f2cbdf",
   "metadata": {},
   "source": [
    "### Total sells of each day"
   ]
  },
  {
   "cell_type": "code",
   "execution_count": 19,
   "id": "cdef0130",
   "metadata": {},
   "outputs": [
    {
     "name": "stdout",
     "output_type": "stream",
     "text": [
      "Total sales of each day: {'Monday': 7990, 'Tuesday': 12410, 'Wednesday': 12760, 'Thursday': 10950, 'Friday': 13270, 'Saturday': 7540, 'Sunday': 8130}\n"
     ]
    }
   ],
   "source": [
    "best_day = \"\"\n",
    "most_selling_day_dict = {}\n",
    "\n",
    "for i in sales:\n",
    "    day = i[\"day\"]\n",
    "    amount = i[\"amount\"]\n",
    "\n",
    "    if day in most_selling_day_dict:\n",
    "        most_selling_day_dict[day] += amount\n",
    "    else:\n",
    "        most_selling_day_dict[day] = amount\n",
    "print(f\"Total sales of each day: {most_selling_day_dict}\")"
   ]
  },
  {
   "cell_type": "markdown",
   "id": "a97abe55",
   "metadata": {},
   "source": [
    "### Best Selling Day"
   ]
  },
  {
   "cell_type": "code",
   "execution_count": 26,
   "id": "c41bd4e0",
   "metadata": {},
   "outputs": [
    {
     "name": "stdout",
     "output_type": "stream",
     "text": [
      "Best Selling day is Friday with amount 13270\n"
     ]
    }
   ],
   "source": [
    "max_selling_day = max(most_selling_day_dict, key = most_selling_day_dict.get)\n",
    "max_selling_amount = most_selling_day_dict[max_selling_day]\n",
    "print(f\"Best Selling day is {max_selling_day} with amount {max_selling_amount}\")"
   ]
  }
 ],
 "metadata": {
  "kernelspec": {
   "display_name": "base",
   "language": "python",
   "name": "python3"
  },
  "language_info": {
   "codemirror_mode": {
    "name": "ipython",
    "version": 3
   },
   "file_extension": ".py",
   "mimetype": "text/x-python",
   "name": "python",
   "nbconvert_exporter": "python",
   "pygments_lexer": "ipython3",
   "version": "3.13.5"
  }
 },
 "nbformat": 4,
 "nbformat_minor": 5
}
