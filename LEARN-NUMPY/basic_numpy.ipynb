{
 "cells": [
  {
   "cell_type": "markdown",
   "id": "015dcd9a",
   "metadata": {},
   "source": [
    "## Basics of Numpy Library"
   ]
  },
  {
   "cell_type": "code",
   "execution_count": 1,
   "id": "743ecfd1",
   "metadata": {},
   "outputs": [],
   "source": [
    "import numpy as np"
   ]
  },
  {
   "cell_type": "markdown",
   "id": "4c75e517",
   "metadata": {},
   "source": [
    "### Create Numpy Array"
   ]
  },
  {
   "cell_type": "code",
   "execution_count": 2,
   "id": "195ac8d4",
   "metadata": {},
   "outputs": [
    {
     "name": "stdout",
     "output_type": "stream",
     "text": [
      "<class 'numpy.ndarray'>\n",
      "[1 2 3 4 5]\n"
     ]
    }
   ],
   "source": [
    "arr = np.array([1, 2, 3, 4, 5])\n",
    "print(type(arr))\n",
    "print(arr)"
   ]
  },
  {
   "cell_type": "markdown",
   "id": "52209cdf",
   "metadata": {},
   "source": [
    "### Create a Matrix"
   ]
  },
  {
   "cell_type": "code",
   "execution_count": 7,
   "id": "cebb9984",
   "metadata": {},
   "outputs": [
    {
     "name": "stdout",
     "output_type": "stream",
     "text": [
      "[[1 2 3]\n",
      " [4 5 6]\n",
      " [7 8 9]]\n",
      "<class 'numpy.ndarray'>\n",
      "<class 'list'>\n"
     ]
    }
   ],
   "source": [
    "l = [[1, 2, 3], [4, 5, 6], [7, 8, 9]] # list\n",
    "arr = np.array(l)\n",
    "print(arr)\n",
    "print(type(arr)) # array\n",
    "print(type(l)) # list"
   ]
  },
  {
   "cell_type": "markdown",
   "id": "543d4e0c",
   "metadata": {},
   "source": [
    "### Array Generation Function"
   ]
  },
  {
   "cell_type": "markdown",
   "id": "6f4cf9ff",
   "metadata": {},
   "source": [
    "np.arrange():"
   ]
  },
  {
   "cell_type": "code",
   "execution_count": 8,
   "id": "e3011f68",
   "metadata": {},
   "outputs": [
    {
     "data": {
      "text/plain": [
       "array([ 1,  2,  3,  4,  5,  6,  7,  8,  9, 10])"
      ]
     },
     "execution_count": 8,
     "metadata": {},
     "output_type": "execute_result"
    }
   ],
   "source": [
    "np.arange(1, 11)"
   ]
  },
  {
   "cell_type": "code",
   "execution_count": 9,
   "id": "3ebe88a1",
   "metadata": {},
   "outputs": [
    {
     "data": {
      "text/plain": [
       "array([1, 3, 5, 7, 9])"
      ]
     },
     "execution_count": 9,
     "metadata": {},
     "output_type": "execute_result"
    }
   ],
   "source": [
    "np.arange(1, 11, 2)"
   ]
  },
  {
   "cell_type": "markdown",
   "id": "0ad1f695",
   "metadata": {},
   "source": [
    "np.zeros():"
   ]
  },
  {
   "cell_type": "code",
   "execution_count": 11,
   "id": "9c622b11",
   "metadata": {},
   "outputs": [
    {
     "data": {
      "text/plain": [
       "array([0., 0., 0., 0.])"
      ]
     },
     "execution_count": 11,
     "metadata": {},
     "output_type": "execute_result"
    }
   ],
   "source": [
    "arr = np.zeros(4)\n",
    "arr"
   ]
  },
  {
   "cell_type": "code",
   "execution_count": 13,
   "id": "68c88574",
   "metadata": {},
   "outputs": [
    {
     "data": {
      "text/plain": [
       "array([[0., 0., 0., 0., 0., 0.],\n",
       "       [0., 0., 0., 0., 0., 0.],\n",
       "       [0., 0., 0., 0., 0., 0.],\n",
       "       [0., 0., 0., 0., 0., 0.]])"
      ]
     },
     "execution_count": 13,
     "metadata": {},
     "output_type": "execute_result"
    }
   ],
   "source": [
    "arr = np.zeros( (4, 6) )\n",
    "arr"
   ]
  },
  {
   "cell_type": "markdown",
   "id": "56e02c9d",
   "metadata": {},
   "source": [
    "np.ones():"
   ]
  },
  {
   "cell_type": "code",
   "execution_count": 14,
   "id": "93c18401",
   "metadata": {},
   "outputs": [
    {
     "data": {
      "text/plain": [
       "array([[1., 1., 1., 1., 1., 1., 1., 1.],\n",
       "       [1., 1., 1., 1., 1., 1., 1., 1.],\n",
       "       [1., 1., 1., 1., 1., 1., 1., 1.],\n",
       "       [1., 1., 1., 1., 1., 1., 1., 1.]])"
      ]
     },
     "execution_count": 14,
     "metadata": {},
     "output_type": "execute_result"
    }
   ],
   "source": [
    "arr = np.ones( (4, 8) )\n",
    "arr"
   ]
  },
  {
   "cell_type": "markdown",
   "id": "08b05212",
   "metadata": {},
   "source": [
    "np.linspace():  -> used to generate an array of evenly spaced numbers over a specified interval"
   ]
  },
  {
   "cell_type": "code",
   "execution_count": 15,
   "id": "81529ee0",
   "metadata": {},
   "outputs": [
    {
     "data": {
      "text/plain": [
       "array([0.        , 0.01010101, 0.02020202, 0.03030303, 0.04040404,\n",
       "       0.05050505, 0.06060606, 0.07070707, 0.08080808, 0.09090909,\n",
       "       0.1010101 , 0.11111111, 0.12121212, 0.13131313, 0.14141414,\n",
       "       0.15151515, 0.16161616, 0.17171717, 0.18181818, 0.19191919,\n",
       "       0.2020202 , 0.21212121, 0.22222222, 0.23232323, 0.24242424,\n",
       "       0.25252525, 0.26262626, 0.27272727, 0.28282828, 0.29292929,\n",
       "       0.3030303 , 0.31313131, 0.32323232, 0.33333333, 0.34343434,\n",
       "       0.35353535, 0.36363636, 0.37373737, 0.38383838, 0.39393939,\n",
       "       0.4040404 , 0.41414141, 0.42424242, 0.43434343, 0.44444444,\n",
       "       0.45454545, 0.46464646, 0.47474747, 0.48484848, 0.49494949,\n",
       "       0.50505051, 0.51515152, 0.52525253, 0.53535354, 0.54545455,\n",
       "       0.55555556, 0.56565657, 0.57575758, 0.58585859, 0.5959596 ,\n",
       "       0.60606061, 0.61616162, 0.62626263, 0.63636364, 0.64646465,\n",
       "       0.65656566, 0.66666667, 0.67676768, 0.68686869, 0.6969697 ,\n",
       "       0.70707071, 0.71717172, 0.72727273, 0.73737374, 0.74747475,\n",
       "       0.75757576, 0.76767677, 0.77777778, 0.78787879, 0.7979798 ,\n",
       "       0.80808081, 0.81818182, 0.82828283, 0.83838384, 0.84848485,\n",
       "       0.85858586, 0.86868687, 0.87878788, 0.88888889, 0.8989899 ,\n",
       "       0.90909091, 0.91919192, 0.92929293, 0.93939394, 0.94949495,\n",
       "       0.95959596, 0.96969697, 0.97979798, 0.98989899, 1.        ])"
      ]
     },
     "execution_count": 15,
     "metadata": {},
     "output_type": "execute_result"
    }
   ],
   "source": [
    "arr = np.linspace(0, 1, 100)\n",
    "arr"
   ]
  },
  {
   "cell_type": "markdown",
   "id": "96cd9b84",
   "metadata": {},
   "source": [
    "### Random Generation Function"
   ]
  },
  {
   "cell_type": "code",
   "execution_count": 16,
   "id": "df80c1df",
   "metadata": {},
   "outputs": [
    {
     "data": {
      "text/plain": [
       "array([0.20335031, 0.01326936, 0.39126798, 0.12047968, 0.24667646,\n",
       "       0.98076475, 0.10922029, 0.55570621, 0.25811182, 0.89089372])"
      ]
     },
     "execution_count": 16,
     "metadata": {},
     "output_type": "execute_result"
    }
   ],
   "source": [
    "np.random.rand(10)"
   ]
  },
  {
   "cell_type": "code",
   "execution_count": 17,
   "id": "f4385679",
   "metadata": {},
   "outputs": [
    {
     "data": {
      "text/plain": [
       "array([-0.65393671, -0.03947489,  0.37318381, -0.00225889, -0.21655928,\n",
       "       -0.30303481, -1.23667683, -1.01158171, -0.3587552 ,  0.67244931])"
      ]
     },
     "execution_count": 17,
     "metadata": {},
     "output_type": "execute_result"
    }
   ],
   "source": [
    "np.random.randn(10)"
   ]
  },
  {
   "cell_type": "code",
   "execution_count": null,
   "id": "26b1306c",
   "metadata": {},
   "outputs": [
    {
     "data": {
      "text/plain": [
       "array([12, 11, 11, 16, 10, 14, 18, 14, 12, 12], dtype=int32)"
      ]
     },
     "execution_count": 20,
     "metadata": {},
     "output_type": "execute_result"
    }
   ],
   "source": [
    "np.random.randint(10, 20, 10) # it return 10 random number 10 to 20"
   ]
  },
  {
   "cell_type": "markdown",
   "id": "bc700d60",
   "metadata": {},
   "source": [
    "### Array Attributes"
   ]
  },
  {
   "cell_type": "code",
   "execution_count": 22,
   "id": "b86e2b6b",
   "metadata": {},
   "outputs": [
    {
     "data": {
      "text/plain": [
       "array([[ 1,  2,  3],\n",
       "       [ 4,  5,  6],\n",
       "       [ 7,  8,  9],\n",
       "       [10, 11, 12]])"
      ]
     },
     "execution_count": 22,
     "metadata": {},
     "output_type": "execute_result"
    }
   ],
   "source": [
    "arr = np.array([ [1, 2, 3], [4, 5, 6], [7, 8, 9],[10, 11, 12] ])\n",
    "arr"
   ]
  },
  {
   "cell_type": "code",
   "execution_count": null,
   "id": "4a76f118",
   "metadata": {},
   "outputs": [
    {
     "data": {
      "text/plain": [
       "(4, 3)"
      ]
     },
     "execution_count": 23,
     "metadata": {},
     "output_type": "execute_result"
    }
   ],
   "source": [
    "arr.shape  # return array shape"
   ]
  },
  {
   "cell_type": "code",
   "execution_count": null,
   "id": "c0b92ea0",
   "metadata": {},
   "outputs": [
    {
     "data": {
      "text/plain": [
       "12"
      ]
     },
     "execution_count": 24,
     "metadata": {},
     "output_type": "execute_result"
    }
   ],
   "source": [
    "arr.size  # return how many elm"
   ]
  },
  {
   "cell_type": "code",
   "execution_count": 25,
   "id": "b653886d",
   "metadata": {},
   "outputs": [
    {
     "data": {
      "text/plain": [
       "dtype('int64')"
      ]
     },
     "execution_count": 25,
     "metadata": {},
     "output_type": "execute_result"
    }
   ],
   "source": [
    "arr.dtype # type of array"
   ]
  },
  {
   "cell_type": "markdown",
   "id": "647fa704",
   "metadata": {},
   "source": [
    "### Array Methods"
   ]
  },
  {
   "cell_type": "code",
   "execution_count": 34,
   "id": "220b62c5",
   "metadata": {},
   "outputs": [
    {
     "data": {
      "text/plain": [
       "array([[10, -2, 23],\n",
       "       [ 4, 15,  6],\n",
       "       [77,  8,  9],\n",
       "       [19, 11,  2]])"
      ]
     },
     "execution_count": 34,
     "metadata": {},
     "output_type": "execute_result"
    }
   ],
   "source": [
    "arr = np.array([ [10, -2, 23], [4, 15, 6], [77, 8, 9],[19, 11, 2] ])\n",
    "arr"
   ]
  },
  {
   "cell_type": "code",
   "execution_count": 35,
   "id": "030e437d",
   "metadata": {},
   "outputs": [
    {
     "data": {
      "text/plain": [
       "np.int64(-2)"
      ]
     },
     "execution_count": 35,
     "metadata": {},
     "output_type": "execute_result"
    }
   ],
   "source": [
    "arr.min()"
   ]
  },
  {
   "cell_type": "code",
   "execution_count": 37,
   "id": "01ede28b",
   "metadata": {},
   "outputs": [
    {
     "data": {
      "text/plain": [
       "-2"
      ]
     },
     "execution_count": 37,
     "metadata": {},
     "output_type": "execute_result"
    }
   ],
   "source": [
    "arr.min().item()"
   ]
  },
  {
   "cell_type": "code",
   "execution_count": 41,
   "id": "1a78b687",
   "metadata": {},
   "outputs": [
    {
     "data": {
      "text/plain": [
       "np.int64(77)"
      ]
     },
     "execution_count": 41,
     "metadata": {},
     "output_type": "execute_result"
    }
   ],
   "source": [
    "arr.max()"
   ]
  },
  {
   "cell_type": "code",
   "execution_count": 38,
   "id": "3943cec7",
   "metadata": {},
   "outputs": [
    {
     "data": {
      "text/plain": [
       "77"
      ]
     },
     "execution_count": 38,
     "metadata": {},
     "output_type": "execute_result"
    }
   ],
   "source": [
    "arr.max().item()"
   ]
  },
  {
   "cell_type": "code",
   "execution_count": 43,
   "id": "027f222a",
   "metadata": {},
   "outputs": [
    {
     "data": {
      "text/plain": [
       "np.int64(182)"
      ]
     },
     "execution_count": 43,
     "metadata": {},
     "output_type": "execute_result"
    }
   ],
   "source": [
    "arr.sum()"
   ]
  },
  {
   "cell_type": "code",
   "execution_count": null,
   "id": "a0f8711b",
   "metadata": {},
   "outputs": [
    {
     "data": {
      "text/plain": [
       "array([110,  32,  40])"
      ]
     },
     "execution_count": 45,
     "metadata": {},
     "output_type": "execute_result"
    }
   ],
   "source": [
    "np.sum(arr, axis=0) # y-axis"
   ]
  },
  {
   "cell_type": "code",
   "execution_count": null,
   "id": "e77f31d8",
   "metadata": {},
   "outputs": [
    {
     "data": {
      "text/plain": [
       "array([31, 25, 94, 32])"
      ]
     },
     "execution_count": 46,
     "metadata": {},
     "output_type": "execute_result"
    }
   ],
   "source": [
    "np.sum(arr, axis=1) # x-axis"
   ]
  },
  {
   "cell_type": "code",
   "execution_count": 52,
   "id": "abb0e7b4",
   "metadata": {},
   "outputs": [
    {
     "data": {
      "text/plain": [
       "np.float64(15.166666666666666)"
      ]
     },
     "execution_count": 52,
     "metadata": {},
     "output_type": "execute_result"
    }
   ],
   "source": [
    "arr.mean()"
   ]
  },
  {
   "cell_type": "code",
   "execution_count": 53,
   "id": "da767721",
   "metadata": {},
   "outputs": [
    {
     "data": {
      "text/plain": [
       "np.float64(19.810911695886745)"
      ]
     },
     "execution_count": 53,
     "metadata": {},
     "output_type": "execute_result"
    }
   ],
   "source": [
    "# standard division\n",
    "arr.std()"
   ]
  },
  {
   "cell_type": "code",
   "execution_count": 56,
   "id": "a499f2b4",
   "metadata": {},
   "outputs": [
    {
     "data": {
      "text/plain": [
       "np.int64(6)"
      ]
     },
     "execution_count": 56,
     "metadata": {},
     "output_type": "execute_result"
    }
   ],
   "source": [
    "# max elm index no\n",
    "arr.argmax()"
   ]
  },
  {
   "cell_type": "code",
   "execution_count": 57,
   "id": "23ca2be4",
   "metadata": {},
   "outputs": [
    {
     "data": {
      "text/plain": [
       "np.int64(1)"
      ]
     },
     "execution_count": 57,
     "metadata": {},
     "output_type": "execute_result"
    }
   ],
   "source": [
    "# min elm index no\n",
    "arr.argmin()"
   ]
  },
  {
   "cell_type": "markdown",
   "id": "a43c4d0f",
   "metadata": {},
   "source": [
    "### Reshaping and Resizing"
   ]
  },
  {
   "cell_type": "code",
   "execution_count": 59,
   "id": "bc58ffef",
   "metadata": {},
   "outputs": [
    {
     "data": {
      "text/plain": [
       "array([ 1,  2,  3,  4,  5,  6,  7,  8,  9, 10, 11, 12, 13, 14, 15, 16, 17,\n",
       "       18, 19, 20, 21, 22, 23, 24, 25, 26, 27, 28, 29, 30])"
      ]
     },
     "execution_count": 59,
     "metadata": {},
     "output_type": "execute_result"
    }
   ],
   "source": [
    "# taken a normal array to convert matrix shape\n",
    "\n",
    "arr = np.arange(1, 31)\n",
    "arr"
   ]
  },
  {
   "cell_type": "code",
   "execution_count": null,
   "id": "38ba000d",
   "metadata": {},
   "outputs": [
    {
     "ename": "ValueError",
     "evalue": "cannot reshape array of size 30 into shape (5,7)",
     "output_type": "error",
     "traceback": [
      "\u001b[1;31m---------------------------------------------------------------------------\u001b[0m",
      "\u001b[1;31mValueError\u001b[0m                                Traceback (most recent call last)",
      "Cell \u001b[1;32mIn[62], line 1\u001b[0m\n\u001b[1;32m----> 1\u001b[0m arr\u001b[38;5;241m.\u001b[39mreshape(\u001b[38;5;241m5\u001b[39m, \u001b[38;5;241m7\u001b[39m)\n",
      "\u001b[1;31mValueError\u001b[0m: cannot reshape array of size 30 into shape (5,7)"
     ]
    }
   ],
   "source": [
    "arr.reshape(5, 7) # get err bcz here elm are 5*7= 35. But our array elm is 30"
   ]
  },
  {
   "cell_type": "code",
   "execution_count": 63,
   "id": "97dd8b49",
   "metadata": {},
   "outputs": [
    {
     "data": {
      "text/plain": [
       "array([[ 1,  2,  3,  4,  5,  6],\n",
       "       [ 7,  8,  9, 10, 11, 12],\n",
       "       [13, 14, 15, 16, 17, 18],\n",
       "       [19, 20, 21, 22, 23, 24],\n",
       "       [25, 26, 27, 28, 29, 30]])"
      ]
     },
     "execution_count": 63,
     "metadata": {},
     "output_type": "execute_result"
    }
   ],
   "source": [
    "arr.reshape(5, 6)"
   ]
  },
  {
   "cell_type": "code",
   "execution_count": 64,
   "id": "a89f774f",
   "metadata": {},
   "outputs": [
    {
     "data": {
      "text/plain": [
       "array([ 1,  2,  3,  4,  5,  6,  7,  8,  9, 10, 11, 12, 13, 14, 15, 16, 17,\n",
       "       18, 19, 20, 21, 22, 23, 24, 25, 26, 27, 28, 29, 30,  1,  2,  3,  4,\n",
       "        5])"
      ]
     },
     "execution_count": 64,
     "metadata": {},
     "output_type": "execute_result"
    }
   ],
   "source": [
    "resized_large = np.resize(arr, (35,)) \n",
    "resized_large"
   ]
  },
  {
   "cell_type": "code",
   "execution_count": 65,
   "id": "fc6a0eb3",
   "metadata": {},
   "outputs": [
    {
     "data": {
      "text/plain": [
       "array([1, 2, 3])"
      ]
     },
     "execution_count": 65,
     "metadata": {},
     "output_type": "execute_result"
    }
   ],
   "source": [
    "resized_small = np.resize(arr, (3,))\n",
    "resized_small"
   ]
  },
  {
   "cell_type": "code",
   "execution_count": 4,
   "id": "e89bed36",
   "metadata": {},
   "outputs": [
    {
     "data": {
      "text/plain": [
       "array([[ 1,  2,  3,  4,  5,  6],\n",
       "       [ 7,  8,  9, 10, 11, 12],\n",
       "       [13, 14, 15, 16, 17, 18],\n",
       "       [19, 20, 21, 22, 23, 24],\n",
       "       [25, 26, 27, 28, 29, 30]])"
      ]
     },
     "execution_count": 4,
     "metadata": {},
     "output_type": "execute_result"
    }
   ],
   "source": [
    "arr = np.arange(1, 31).reshape(5, 6)\n",
    "arr"
   ]
  },
  {
   "cell_type": "code",
   "execution_count": 6,
   "id": "7df92926",
   "metadata": {},
   "outputs": [
    {
     "data": {
      "text/plain": [
       "array([[ 2,  3,  4,  5],\n",
       "       [ 8,  9, 10, 11],\n",
       "       [14, 15, 16, 17]])"
      ]
     },
     "execution_count": 6,
     "metadata": {},
     "output_type": "execute_result"
    }
   ],
   "source": [
    "arr[0:3, -5:-1]"
   ]
  },
  {
   "cell_type": "code",
   "execution_count": 7,
   "id": "2dda52e1",
   "metadata": {},
   "outputs": [
    {
     "data": {
      "text/plain": [
       "array([[0., 0., 1., 0., 0.],\n",
       "       [0., 0., 1., 0., 0.],\n",
       "       [1., 1., 1., 1., 1.],\n",
       "       [0., 0., 1., 0., 0.],\n",
       "       [0., 0., 1., 0., 0.]])"
      ]
     },
     "execution_count": 7,
     "metadata": {},
     "output_type": "execute_result"
    }
   ],
   "source": [
    "n = 5\n",
    "arr = np.zeros((n, n))\n",
    "arr[n // 2, :] = 1\n",
    "arr[ : , n // 2] = 1 \n",
    "arr"
   ]
  },
  {
   "cell_type": "code",
   "execution_count": null,
   "id": "858360ca",
   "metadata": {},
   "outputs": [],
   "source": []
  }
 ],
 "metadata": {
  "kernelspec": {
   "display_name": "base",
   "language": "python",
   "name": "python3"
  },
  "language_info": {
   "codemirror_mode": {
    "name": "ipython",
    "version": 3
   },
   "file_extension": ".py",
   "mimetype": "text/x-python",
   "name": "python",
   "nbconvert_exporter": "python",
   "pygments_lexer": "ipython3",
   "version": "3.13.5"
  }
 },
 "nbformat": 4,
 "nbformat_minor": 5
}
