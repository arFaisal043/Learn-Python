{
 "cells": [
  {
   "cell_type": "markdown",
   "id": "22af72a5",
   "metadata": {},
   "source": [
    "# 🐍 NumPy Cheat Sheet"
   ]
  },
  {
   "cell_type": "code",
   "execution_count": 5,
   "id": "221dc600",
   "metadata": {},
   "outputs": [],
   "source": [
    "import numpy as np"
   ]
  },
  {
   "cell_type": "markdown",
   "id": "5db5380d",
   "metadata": {},
   "source": [
    "### 🔹 Creating Arrays"
   ]
  },
  {
   "cell_type": "markdown",
   "id": "dfea20ef",
   "metadata": {},
   "source": [
    "np.array([1, 2, 3])        # 1D array\n",
    "np.zeros((3, 3))           # 3x3 array of zeros\n",
    "np.ones((2, 2))            # 2x2 array of ones\n",
    "np.arange(0, 10, 2)        # [0, 2, 4, 6, 8]\n",
    "np.linspace(0, 10, 5)      # 5 values between 0 and 10\n",
    "np.full((2, 2), 7)         # 2x2 filled with 7\n",
    "np.eye(4)                  # 4x4 identity matrix\n",
    "np.random.rand(3, 3)       # 3x3 random values [0,1)"
   ]
  },
  {
   "cell_type": "markdown",
   "id": "aaad5a5f",
   "metadata": {},
   "source": [
    "### 🔹 Array Manipulation"
   ]
  },
  {
   "cell_type": "markdown",
   "id": "68f1962e",
   "metadata": {},
   "source": [
    "arr.reshape((rows, cols))  # Reshape array\n",
    "arr.flatten()              # Convert to 1D\n",
    "np.concatenate([a1, a2], axis=0)  # Join arrays\n",
    "arr.T                      # Transpose\n",
    "np.vstack([a1, a2])        # Stack vertically\n",
    "np.hstack([a1, a2])        # Stack horizontally\n",
    "np.expand_dims(arr, axis=0) # Add new dimension\n",
    "arr.swapaxes(0, 1)         # Swap axes"
   ]
  },
  {
   "cell_type": "markdown",
   "id": "a1901b2c",
   "metadata": {},
   "source": [
    "### 🔹 Indexing & Slicing"
   ]
  },
  {
   "cell_type": "markdown",
   "id": "da5341e8",
   "metadata": {},
   "source": [
    "arr[1, 2]                  # Element at row 1, col 2\n",
    "arr[1, :]                  # All cols from row 1\n",
    "arr[:, 1:3]                # Cols from index 1 to 2\n",
    "arr[arr > 5]               # Filter > 5\n",
    "arr[arr % 2 == 0]          # Select even elements\n",
    "np.where(arr > 5, 1, 0)    # Replace with condition\n",
    "np.nonzero(arr)            # Indices of non-zero\n",
    "arr[0:2, :] = 10           # Set first 2 rows to 10"
   ]
  },
  {
   "cell_type": "markdown",
   "id": "ef85233d",
   "metadata": {},
   "source": [
    "### 🔹 Statistics"
   ]
  },
  {
   "cell_type": "markdown",
   "id": "14fa6389",
   "metadata": {},
   "source": [
    "np.mean(arr)               # Mean\n",
    "np.median(arr)             # Median\n",
    "np.std(arr)                # Standard deviation\n",
    "np.sum(arr)                # Sum\n",
    "np.min(arr), np.max(arr)   # Min, Max\n",
    "np.percentile(arr, 50)     # 50th percentile\n",
    "np.var(arr)                # Variance\n",
    "np.corrcoef(a1, a2)        # Correlation coeff."
   ]
  },
  {
   "cell_type": "markdown",
   "id": "183c066c",
   "metadata": {},
   "source": [
    "### 🔹 Linear Algebra"
   ]
  },
  {
   "cell_type": "markdown",
   "id": "9f8bb0cc",
   "metadata": {},
   "source": [
    "np.dot(a1, a2)             # Dot product\n",
    "a1 @ a2                    # Matrix multiplication\n",
    "arr.T                      # Transpose\n",
    "np.linalg.inv(arr)         # Inverse\n",
    "np.linalg.det(arr)         # Determinant\n",
    "np.linalg.eig(arr)         # Eigenvalues & vectors\n",
    "np.linalg.svd(arr)         # Singular Value Decomposition\n",
    "np.linalg.norm(arr)        # Frobenius norm"
   ]
  },
  {
   "cell_type": "markdown",
   "id": "1054db0f",
   "metadata": {},
   "source": [
    "### 🔹 Useful Functions"
   ]
  },
  {
   "cell_type": "markdown",
   "id": "51ca50f5",
   "metadata": {},
   "source": [
    "np.unique(arr)             # Unique elements\n",
    "np.sort(arr)               # Sort ascending\n",
    "np.argsort(arr)            # Indices that sort arr\n",
    "np.count_nonzero(arr)      # Count non-zeros\n",
    "np.nan_to_num(arr)         # Replace NaN with 0\n",
    "np.isnan(arr)              # Check NaN\n",
    "np.delete(arr, 2)          # Delete index 2\n",
    "np.insert(arr, 1, 10)      # Insert 10 at index 1"
   ]
  },
  {
   "cell_type": "markdown",
   "id": "6e2d828e",
   "metadata": {},
   "source": [
    "### 🔹 Saving & Loading"
   ]
  },
  {
   "cell_type": "markdown",
   "id": "8c223947",
   "metadata": {},
   "source": [
    "np.save('file.npy', arr)                  # Save binary\n",
    "np.load('file.npy')                       # Load binary\n",
    "np.savetxt('file.txt', arr)               # Save text\n",
    "np.loadtxt('file.txt')                    # Load text\n",
    "np.savez('file.npz', a1=a1, a2=a2)        # Save multiple\n",
    "np.load('file.npz')                       # Load multiple\n",
    "np.savez_compressed('file.npz', arr=arr)  # Compressed save\n",
    "np.loadtxt('file.txt', delimiter=',')     # Load CSV"
   ]
  }
 ],
 "metadata": {
  "kernelspec": {
   "display_name": "base",
   "language": "python",
   "name": "python3"
  },
  "language_info": {
   "codemirror_mode": {
    "name": "ipython",
    "version": 3
   },
   "file_extension": ".py",
   "mimetype": "text/x-python",
   "name": "python",
   "nbconvert_exporter": "python",
   "pygments_lexer": "ipython3",
   "version": "3.13.5"
  }
 },
 "nbformat": 4,
 "nbformat_minor": 5
}
