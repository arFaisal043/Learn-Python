{
 "cells": [
  {
   "cell_type": "markdown",
   "id": "b88af8cc",
   "metadata": {},
   "source": [
    "# 🐍 NumPy Cheat Sheet"
   ]
  },
  {
   "cell_type": "code",
   "execution_count": 2,
   "id": "8af32a2b",
   "metadata": {},
   "outputs": [],
   "source": [
    "import numpy as np"
   ]
  },
  {
   "cell_type": "markdown",
   "id": "90fa2239",
   "metadata": {},
   "source": [
    "### Array Creation"
   ]
  },
  {
   "cell_type": "markdown",
   "id": "013c2dfa",
   "metadata": {},
   "source": [
    "arr = np.array([1, 2, 3])          # 1D array from list\n",
    "zeros = np.zeros((3, 3))           # 3x3 array of zeros\n",
    "ones = np.ones((2, 2))             # 2x2 array of ones\n",
    "range_arr = np.arange(0, 10, 2)    # Values from 0 to 10, step 2\n",
    "rand_arr = np.random.rand(3, 3)    # 3x3 random array (0-1)\n",
    "identity = np.eye(4)               # 4x4 identity matrix\n",
    "full_arr = np.full((2, 2), 7)      # 2x2 array filled with 7\n",
    "lin_arr = np.linspace(0, 10, 5)    # 5 equally spaced values 0-10"
   ]
  },
  {
   "cell_type": "markdown",
   "id": "67d6e403",
   "metadata": {},
   "source": [
    "### Array Manipulation"
   ]
  },
  {
   "cell_type": "markdown",
   "id": "073c0164",
   "metadata": {},
   "source": [
    "arr.reshape((rows, cols))          # Reshape to specified dimensions\n",
    "arr.flatten()                      # Convert to 1D array\n",
    "np.concatenate([arr1, arr2], axis=0)  # Concatenate along axis\n",
    "arr.T                              # Transpose array (swap rows/columns)\n",
    "np.vstack([arr1, arr2])            # Stack arrays vertically\n",
    "np.hstack([arr1, arr2])            # Stack arrays horizontally\n",
    "np.expand_dims(arr, axis=0)        # Add new dimension\n",
    "arr.swapaxes(0, 1)                 # Swap first and second axes"
   ]
  },
  {
   "cell_type": "markdown",
   "id": "f15e1002",
   "metadata": {},
   "source": [
    "### Indexing & Filtering"
   ]
  },
  {
   "cell_type": "markdown",
   "id": "f9d33a53",
   "metadata": {},
   "source": [
    "arr[1, 2]                          # Element at row 1, column 2\n",
    "arr[1, :]                          # All columns from row 1\n",
    "arr[arr > 5]                       # Elements greater than 5\n",
    "np.where(arr > 5, 1, 0)            # Replace elements based on condition\n",
    "np.nonzero(arr)                    # Indices of non-zero elements\n",
    "arr[0:2, :] = 10                   # Set first two rows to 10\n",
    "arr[:, 1:3]                        # Slice columns from index 1 to 3\n",
    "arr[arr % 2 == 0]                  # Select even elements"
   ]
  },
  {
   "cell_type": "markdown",
   "id": "52847bfc",
   "metadata": {},
   "source": [
    "### Statistics"
   ]
  },
  {
   "cell_type": "markdown",
   "id": "44a50ce2",
   "metadata": {},
   "source": [
    "np.mean(arr)                       # Mean of array\n",
    "np.median(arr)                     # Median of array\n",
    "np.std(arr)                        # Standard deviation\n",
    "np.sum(arr)                        # Sum of all elements\n",
    "np.min(arr), np.max(arr)           # Minimum and maximum values\n",
    "np.percentile(arr, 50)             # 50th percentile\n",
    "np.var(arr)                        # Variance of array\n",
    "np.corrcoef(arr1, arr2)            # Correlation coefficient"
   ]
  },
  {
   "cell_type": "markdown",
   "id": "18685b07",
   "metadata": {},
   "source": [
    "### Linear Algebra"
   ]
  },
  {
   "cell_type": "markdown",
   "id": "af88af3d",
   "metadata": {},
   "source": [
    "np.dot(arr1, arr2)                 # Dot product of two arrays\n",
    "arr1 @ arr2                        # Matrix multiplication\n",
    "arr.T                              # Transpose of array\n",
    "np.linalg.inv(arr)                 # Inverse of square matrix\n",
    "np.linalg.det(arr)                 # Determinant of matrix\n",
    "np.linalg.eig(arr)                 # Eigenvalues and eigenvectors\n",
    "np.linalg.svd(arr)                 # Singular Value Decomposition\n",
    "np.linalg.norm(arr)                # Frobenius norm of matrix"
   ]
  },
  {
   "cell_type": "markdown",
   "id": "f16487cb",
   "metadata": {},
   "source": [
    "### Data Handling"
   ]
  },
  {
   "cell_type": "markdown",
   "id": "cca36c63",
   "metadata": {},
   "source": [
    "np.unique(arr)                     # Unique elements of array\n",
    "np.sort(arr)                       # Sort array in ascending order\n",
    "np.argsort(arr)                    # Indices that would sort array\n",
    "np.count_nonzero(arr)              # Count non-zero elements\n",
    "np.nan_to_num(arr)                 # Replace NaN with zero/value\n",
    "np.isnan(arr)                      # Identify NaN elements\n",
    "np.delete(arr, 2)                  # Delete element at index 2\n",
    "np.insert(arr, 1, 10)              # Insert value 10 at index 1"
   ]
  },
  {
   "cell_type": "markdown",
   "id": "354145cf",
   "metadata": {},
   "source": [
    "### Saving & Loading"
   ]
  },
  {
   "cell_type": "markdown",
   "id": "c6952167",
   "metadata": {},
   "source": [
    "np.save('file.npy', arr)           # Save array to binary file\n",
    "np.load('file.npy')                # Load array from binary file\n",
    "np.savetxt('file.txt', arr)        # Save array to text file\n",
    "np.loadtxt('file.txt')             # Load array from text file\n",
    "np.savez('file.npz', arr1=arr1, arr2=arr2)  # Save multiple arrays\n",
    "np.load('file.npz')                # Load multiple arrays from .npz\n",
    "np.savez_compressed('file.npz', arr=arr)  # Save compressed arrays\n",
    "np.loadtxt('file.txt', delimiter=',')  # Load array from CSV"
   ]
  }
 ],
 "metadata": {
  "kernelspec": {
   "display_name": "base",
   "language": "python",
   "name": "python3"
  },
  "language_info": {
   "codemirror_mode": {
    "name": "ipython",
    "version": 3
   },
   "file_extension": ".py",
   "mimetype": "text/x-python",
   "name": "python",
   "nbconvert_exporter": "python",
   "pygments_lexer": "ipython3",
   "version": "3.13.5"
  }
 },
 "nbformat": 4,
 "nbformat_minor": 5
}
