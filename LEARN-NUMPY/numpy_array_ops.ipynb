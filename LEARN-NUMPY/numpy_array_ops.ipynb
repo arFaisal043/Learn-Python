{
 "cells": [
  {
   "cell_type": "markdown",
   "id": "fa2ae030",
   "metadata": {},
   "source": [
    "## NUMPY ARRAY OPERATIONS"
   ]
  },
  {
   "cell_type": "code",
   "execution_count": 3,
   "id": "629adf7b",
   "metadata": {},
   "outputs": [],
   "source": [
    "import numpy as np"
   ]
  },
  {
   "cell_type": "markdown",
   "id": "60b9ced8",
   "metadata": {},
   "source": [
    "### Arithmetic Operations:"
   ]
  },
  {
   "cell_type": "code",
   "execution_count": null,
   "id": "2d456dab",
   "metadata": {},
   "outputs": [
    {
     "data": {
      "text/plain": [
       "array([1, 2, 3, 4, 5])"
      ]
     },
     "execution_count": 8,
     "metadata": {},
     "output_type": "execute_result"
    }
   ],
   "source": [
    "arr1 = np.array([1, 2, 3, 4, 5])\n",
    "arr2 = np.array([6,  7,  8,  9, 10])"
   ]
  },
  {
   "cell_type": "code",
   "execution_count": 16,
   "id": "918336a5",
   "metadata": {},
   "outputs": [
    {
     "data": {
      "text/plain": [
       "array([ 7,  5, 11, 13, 15])"
      ]
     },
     "execution_count": 16,
     "metadata": {},
     "output_type": "execute_result"
    }
   ],
   "source": [
    "arr1 + arr2\n",
    "arr2 - arr1\n",
    "arr1 * arr2\n",
    "arr1 / arr2\n",
    "arr1 // arr2\n",
    "arr1 ** arr2\n",
    "arr1 ^ arr2"
   ]
  },
  {
   "cell_type": "code",
   "execution_count": 30,
   "id": "a9c423f1",
   "metadata": {},
   "outputs": [],
   "source": [
    "# Operation on Matrix\n",
    "arr1 = np.array( [[1, 2, 3], [4, 5, 6], [7, 8, 9]] )\n",
    "arr2 = np.array( [[1, 2, 3], [4, 5, 6], [7, 8, 9]] )\n"
   ]
  },
  {
   "cell_type": "code",
   "execution_count": 32,
   "id": "e3ca2a46",
   "metadata": {},
   "outputs": [
    {
     "data": {
      "text/plain": [
       "array([[ 1,  4,  9],\n",
       "       [16, 25, 36],\n",
       "       [49, 64, 81]])"
      ]
     },
     "execution_count": 32,
     "metadata": {},
     "output_type": "execute_result"
    }
   ],
   "source": [
    "arr1 + arr2\n",
    "arr1 * arr2"
   ]
  },
  {
   "cell_type": "markdown",
   "id": "15bc6559",
   "metadata": {},
   "source": [
    "### BroadCasting:"
   ]
  },
  {
   "cell_type": "code",
   "execution_count": 19,
   "id": "c283152c",
   "metadata": {},
   "outputs": [
    {
     "data": {
      "text/plain": [
       "array([100, 200, 300, 400, 500])"
      ]
     },
     "execution_count": 19,
     "metadata": {},
     "output_type": "execute_result"
    }
   ],
   "source": [
    "l = [10, 20, 30, 40, 50]\n",
    "arr = np.array(l)\n",
    "arr + 10\n",
    "arr * 10"
   ]
  },
  {
   "cell_type": "code",
   "execution_count": 33,
   "id": "6aa2a271",
   "metadata": {},
   "outputs": [
    {
     "data": {
      "text/plain": [
       "array([[11, 12, 13],\n",
       "       [14, 15, 16],\n",
       "       [17, 18, 19]])"
      ]
     },
     "execution_count": 33,
     "metadata": {},
     "output_type": "execute_result"
    }
   ],
   "source": [
    "arr = np.array( [[1, 2, 3], [4, 5, 6], [7, 8, 9]] )\n",
    "arr + 10"
   ]
  },
  {
   "cell_type": "markdown",
   "id": "339b6e36",
   "metadata": {},
   "source": [
    "### Deep and Shallow Copy:"
   ]
  },
  {
   "cell_type": "code",
   "execution_count": 40,
   "id": "f709ed6f",
   "metadata": {},
   "outputs": [
    {
     "data": {
      "text/plain": [
       "array([ 1,  2,  3,  4,  5,  6,  7,  8,  9, 10, 11, 12, 13, 14, 15, 16, 17,\n",
       "       18, 19, 20])"
      ]
     },
     "execution_count": 40,
     "metadata": {},
     "output_type": "execute_result"
    }
   ],
   "source": [
    "arr = np.arange(1, 21)\n",
    "arr"
   ]
  },
  {
   "cell_type": "code",
   "execution_count": 43,
   "id": "a952751a",
   "metadata": {},
   "outputs": [
    {
     "data": {
      "text/plain": [
       "array([10, 20, 30, 40, 50])"
      ]
     },
     "execution_count": 43,
     "metadata": {},
     "output_type": "execute_result"
    }
   ],
   "source": [
    "slice = arr[ : 5]\n",
    "slice = slice * 10\n",
    "slice"
   ]
  },
  {
   "cell_type": "code",
   "execution_count": 44,
   "id": "b4009a2f",
   "metadata": {},
   "outputs": [
    {
     "data": {
      "text/plain": [
       "array([ 1,  2,  3,  4,  5,  6,  7,  8,  9, 10, 11, 12, 13, 14, 15, 16, 17,\n",
       "       18, 19, 20])"
      ]
     },
     "execution_count": 44,
     "metadata": {},
     "output_type": "execute_result"
    }
   ],
   "source": [
    "arr"
   ]
  },
  {
   "cell_type": "markdown",
   "id": "0db2504e",
   "metadata": {},
   "source": [
    "Shallow Copy"
   ]
  },
  {
   "cell_type": "code",
   "execution_count": 50,
   "id": "4f38e6f5",
   "metadata": {},
   "outputs": [
    {
     "name": "stdout",
     "output_type": "stream",
     "text": [
      "[1, 2, [99, 4]]\n"
     ]
    }
   ],
   "source": [
    "import copy\n",
    "\n",
    "list1 = [1, 2, [3, 4]]\n",
    "list2 = copy.copy(list1)\n",
    "\n",
    "list2[2][0] = 99  # This changes BOTH lists\n",
    "print(list1)"
   ]
  },
  {
   "cell_type": "markdown",
   "id": "549dd808",
   "metadata": {},
   "source": [
    "Deep Copy"
   ]
  },
  {
   "cell_type": "code",
   "execution_count": 51,
   "id": "edebb7d2",
   "metadata": {},
   "outputs": [
    {
     "name": "stdout",
     "output_type": "stream",
     "text": [
      "[1, 2, [3, 4]]\n"
     ]
    }
   ],
   "source": [
    "import copy\n",
    "list1 = [1, 2, [3, 4]]\n",
    "list2 = copy.deepcopy(list1)\n",
    "\n",
    "list2[2][0] = 99  # This changes ONLY list2\n",
    "print(list1) "
   ]
  },
  {
   "cell_type": "markdown",
   "id": "c42ecb45",
   "metadata": {},
   "source": [
    "### Matrix Operations:"
   ]
  },
  {
   "cell_type": "code",
   "execution_count": 52,
   "id": "9ce2bea8",
   "metadata": {},
   "outputs": [],
   "source": [
    "m1 = np.array([ [1, 2], [3, 4] ])\n",
    "m2 = np.array([ [5, 6], [7, 8] ])"
   ]
  },
  {
   "cell_type": "code",
   "execution_count": null,
   "id": "7552447a",
   "metadata": {},
   "outputs": [
    {
     "data": {
      "text/plain": [
       "array([[19, 22],\n",
       "       [43, 50]])"
      ]
     },
     "execution_count": 56,
     "metadata": {},
     "output_type": "execute_result"
    }
   ],
   "source": [
    "# Normal Multiplication\n",
    "m1 * m2"
   ]
  },
  {
   "cell_type": "markdown",
   "id": "d8ab8291",
   "metadata": {},
   "source": [
    "MATRIX Multiplication"
   ]
  },
  {
   "cell_type": "code",
   "execution_count": null,
   "id": "7a2e8477",
   "metadata": {},
   "outputs": [
    {
     "data": {
      "text/plain": [
       "array([[1, 2, 3],\n",
       "       [4, 5, 6]])"
      ]
     },
     "execution_count": 58,
     "metadata": {},
     "output_type": "execute_result"
    }
   ],
   "source": [
    "m1 = np.arange(1, 7).reshape(2, 3)\n",
    "m1"
   ]
  },
  {
   "cell_type": "code",
   "execution_count": 59,
   "id": "b1f82bba",
   "metadata": {},
   "outputs": [
    {
     "data": {
      "text/plain": [
       "array([[ 7,  8],\n",
       "       [ 9, 10],\n",
       "       [11, 12]])"
      ]
     },
     "execution_count": 59,
     "metadata": {},
     "output_type": "execute_result"
    }
   ],
   "source": [
    "m2 = np.arange(7, 13).reshape(3, 2)\n",
    "m2"
   ]
  },
  {
   "cell_type": "code",
   "execution_count": null,
   "id": "5bb760fd",
   "metadata": {},
   "outputs": [
    {
     "ename": "ValueError",
     "evalue": "operands could not be broadcast together with shapes (2,3) (3,2) ",
     "output_type": "error",
     "traceback": [
      "\u001b[1;31m---------------------------------------------------------------------------\u001b[0m",
      "\u001b[1;31mValueError\u001b[0m                                Traceback (most recent call last)",
      "Cell \u001b[1;32mIn[60], line 1\u001b[0m\n\u001b[1;32m----> 1\u001b[0m m1 \u001b[38;5;241m*\u001b[39m m2\n",
      "\u001b[1;31mValueError\u001b[0m: operands could not be broadcast together with shapes (2,3) (3,2) "
     ]
    }
   ],
   "source": [
    "m1 * m2 #  Normal Multiplication not applicable"
   ]
  },
  {
   "cell_type": "code",
   "execution_count": null,
   "id": "dab868c7",
   "metadata": {},
   "outputs": [
    {
     "data": {
      "text/plain": [
       "array([[ 58,  64],\n",
       "       [139, 154]])"
      ]
     },
     "execution_count": 61,
     "metadata": {},
     "output_type": "execute_result"
    }
   ],
   "source": [
    "m1 @ m2 # MATRIX Multiplication"
   ]
  },
  {
   "cell_type": "code",
   "execution_count": null,
   "id": "9f6c4780",
   "metadata": {},
   "outputs": [
    {
     "data": {
      "text/plain": [
       "array([[ 58,  64],\n",
       "       [139, 154]])"
      ]
     },
     "execution_count": 62,
     "metadata": {},
     "output_type": "execute_result"
    }
   ],
   "source": [
    "# another way to write\n",
    "np.dot(m1, m2)"
   ]
  },
  {
   "cell_type": "markdown",
   "id": "1c559bf1",
   "metadata": {},
   "source": [
    "Transpose Matrix "
   ]
  },
  {
   "cell_type": "code",
   "execution_count": 63,
   "id": "9bf9e027",
   "metadata": {},
   "outputs": [
    {
     "data": {
      "text/plain": [
       "array([[1, 4],\n",
       "       [2, 5],\n",
       "       [3, 6]])"
      ]
     },
     "execution_count": 63,
     "metadata": {},
     "output_type": "execute_result"
    }
   ],
   "source": [
    "m = np.array([ [1, 2, 3],[4, 5, 6] ])\n",
    "m.T"
   ]
  },
  {
   "cell_type": "markdown",
   "id": "cba9fbca",
   "metadata": {},
   "source": [
    "### Advance Array Manipulation"
   ]
  },
  {
   "cell_type": "markdown",
   "id": "a5b5e19f",
   "metadata": {},
   "source": [
    "Stacking Array"
   ]
  },
  {
   "cell_type": "code",
   "execution_count": 77,
   "id": "775fd7e2",
   "metadata": {},
   "outputs": [
    {
     "data": {
      "text/plain": [
       "array([1, 2, 3, 4])"
      ]
     },
     "execution_count": 77,
     "metadata": {},
     "output_type": "execute_result"
    }
   ],
   "source": [
    "m1 = np.array([1, 2, 3, 4])\n",
    "m1"
   ]
  },
  {
   "cell_type": "code",
   "execution_count": 78,
   "id": "dba83fa8",
   "metadata": {},
   "outputs": [
    {
     "data": {
      "text/plain": [
       "array([5, 6, 7, 8])"
      ]
     },
     "execution_count": 78,
     "metadata": {},
     "output_type": "execute_result"
    }
   ],
   "source": [
    "m2 = np.array([5, 6, 7, 8])\n",
    "m2"
   ]
  },
  {
   "cell_type": "code",
   "execution_count": 79,
   "id": "4aeeea91",
   "metadata": {},
   "outputs": [
    {
     "data": {
      "text/plain": [
       "array([[1, 2, 3, 4],\n",
       "       [5, 6, 7, 8]])"
      ]
     },
     "execution_count": 79,
     "metadata": {},
     "output_type": "execute_result"
    }
   ],
   "source": [
    "# Vertical stack\n",
    "np.vstack((m1, m2))"
   ]
  },
  {
   "cell_type": "code",
   "execution_count": 80,
   "id": "1ca5604a",
   "metadata": {},
   "outputs": [
    {
     "data": {
      "text/plain": [
       "array([1, 2, 3, 4, 5, 6, 7, 8])"
      ]
     },
     "execution_count": 80,
     "metadata": {},
     "output_type": "execute_result"
    }
   ],
   "source": [
    "# Horizontal stack\n",
    "np.hstack((m1, m2))"
   ]
  },
  {
   "cell_type": "code",
   "execution_count": null,
   "id": "227d3d82",
   "metadata": {},
   "outputs": [
    {
     "data": {
      "text/plain": [
       "array([[1, 5],\n",
       "       [2, 6],\n",
       "       [3, 7],\n",
       "       [4, 8]])"
      ]
     },
     "execution_count": 81,
     "metadata": {},
     "output_type": "execute_result"
    }
   ],
   "source": [
    "# Column Stack\n",
    "np.column_stack((m1, m2))"
   ]
  },
  {
   "cell_type": "markdown",
   "id": "3b0b1383",
   "metadata": {},
   "source": [
    "Splitting Array"
   ]
  },
  {
   "cell_type": "code",
   "execution_count": 85,
   "id": "54ca2772",
   "metadata": {},
   "outputs": [
    {
     "data": {
      "text/plain": [
       "array([[ 1,  2,  3,  4],\n",
       "       [ 5,  6,  7,  8],\n",
       "       [ 9, 10, 11, 12],\n",
       "       [13, 14, 15, 16]])"
      ]
     },
     "execution_count": 85,
     "metadata": {},
     "output_type": "execute_result"
    }
   ],
   "source": [
    "x = np.arange(1, 17).reshape(4, 4)\n",
    "x"
   ]
  },
  {
   "cell_type": "code",
   "execution_count": 88,
   "id": "c3c2e338",
   "metadata": {},
   "outputs": [
    {
     "data": {
      "text/plain": [
       "[array([[1, 2, 3, 4],\n",
       "        [5, 6, 7, 8]]),\n",
       " array([[ 9, 10, 11, 12],\n",
       "        [13, 14, 15, 16]])]"
      ]
     },
     "execution_count": 88,
     "metadata": {},
     "output_type": "execute_result"
    }
   ],
   "source": [
    "# Split into two parts\n",
    "np.split(x, 2)"
   ]
  },
  {
   "cell_type": "code",
   "execution_count": 89,
   "id": "9d995ff7",
   "metadata": {},
   "outputs": [
    {
     "data": {
      "text/plain": [
       "[array([[1, 2, 3, 4],\n",
       "        [5, 6, 7, 8]]),\n",
       " array([[ 9, 10, 11, 12],\n",
       "        [13, 14, 15, 16]])]"
      ]
     },
     "execution_count": 89,
     "metadata": {},
     "output_type": "execute_result"
    }
   ],
   "source": [
    "np.vsplit(x, 2)"
   ]
  },
  {
   "cell_type": "code",
   "execution_count": 90,
   "id": "5a7527e6",
   "metadata": {},
   "outputs": [
    {
     "data": {
      "text/plain": [
       "[array([[ 1,  2],\n",
       "        [ 5,  6],\n",
       "        [ 9, 10],\n",
       "        [13, 14]]),\n",
       " array([[ 3,  4],\n",
       "        [ 7,  8],\n",
       "        [11, 12],\n",
       "        [15, 16]])]"
      ]
     },
     "execution_count": 90,
     "metadata": {},
     "output_type": "execute_result"
    }
   ],
   "source": [
    "np.hsplit(x, 2)"
   ]
  },
  {
   "cell_type": "code",
   "execution_count": null,
   "id": "c3c609f5",
   "metadata": {},
   "outputs": [],
   "source": []
  },
  {
   "cell_type": "code",
   "execution_count": null,
   "id": "79a5575b",
   "metadata": {},
   "outputs": [],
   "source": []
  }
 ],
 "metadata": {
  "kernelspec": {
   "display_name": "base",
   "language": "python",
   "name": "python3"
  },
  "language_info": {
   "codemirror_mode": {
    "name": "ipython",
    "version": 3
   },
   "file_extension": ".py",
   "mimetype": "text/x-python",
   "name": "python",
   "nbconvert_exporter": "python",
   "pygments_lexer": "ipython3",
   "version": "3.13.5"
  }
 },
 "nbformat": 4,
 "nbformat_minor": 5
}
